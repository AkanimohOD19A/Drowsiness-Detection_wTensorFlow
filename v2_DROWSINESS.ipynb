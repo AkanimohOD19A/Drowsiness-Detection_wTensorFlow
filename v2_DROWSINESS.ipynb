{
 "cells": [
  {
   "cell_type": "code",
   "execution_count": 2,
   "metadata": {},
   "outputs": [],
   "source": [
    "## Install Dependencies"
   ]
  },
  {
   "cell_type": "code",
   "execution_count": 3,
   "metadata": {},
   "outputs": [],
   "source": [
    "from tensorflow.keras.preprocessing.image import ImageDataGenerator\n",
    "from tensorflow.keras.applications import MobileNetV2\n",
    "from tensorflow.keras.layers import AveragePooling2D\n",
    "from tensorflow.keras.layers import Dropout\n",
    "from tensorflow.keras.layers import Flatten\n",
    "from tensorflow.keras.layers import Dense\n",
    "from tensorflow.keras.layers import Input\n",
    "from tensorflow.keras.models import Model\n",
    "from tensorflow.keras.optimizers import Adam\n",
    "from tensorflow.keras.applications.mobilenet_v2 import preprocess_input\n",
    "from tensorflow.keras.preprocessing.image import img_to_array\n",
    "from tensorflow.keras.preprocessing.image import load_img\n",
    "from tensorflow.keras.utils import to_categorical\n",
    "from sklearn.preprocessing import LabelBinarizer\n",
    "from sklearn.model_selection import train_test_split\n",
    "from sklearn.metrics import classification_report\n",
    "from imutils import paths\n",
    "import matplotlib.pyplot as plt\n",
    "import numpy as np\n",
    "import argparse\n",
    "import os"
   ]
  },
  {
   "cell_type": "code",
   "execution_count": 4,
   "metadata": {},
   "outputs": [],
   "source": [
    "## construct the argument parser and parse the arguments"
   ]
  },
  {
   "cell_type": "code",
   "execution_count": 23,
   "metadata": {},
   "outputs": [
    {
     "name": "stdout",
     "output_type": "stream",
     "text": [
      "c:\\Users\\PC\\PycharmProjects\\ComputerVision\\DROWSINESS_tf\n"
     ]
    }
   ],
   "source": [
    "print(os.getcwd())\n",
    "dataset_path=os.getcwd()+\"//data\"\n",
    "model_path=os.getcwd()+\"//model//drowsiness_model\"\n",
    "plot_path=os.getcwd()+\"//plot\""
   ]
  },
  {
   "cell_type": "code",
   "execution_count": 6,
   "metadata": {},
   "outputs": [],
   "source": [
    "# initialize the initial learning rate, number of epochs to train for,\n",
    "# and batch size\n",
    "INIT_LR = 1e-4\n",
    "EPOCHS = 20\n",
    "BS = 32"
   ]
  },
  {
   "cell_type": "code",
   "execution_count": 7,
   "metadata": {},
   "outputs": [
    {
     "name": "stdout",
     "output_type": "stream",
     "text": [
      "[INFO] loading images...\n"
     ]
    }
   ],
   "source": [
    "# grab the list of images in our dataset directory, then initialize\n",
    "# the list of data (i.e., images) and class images\n",
    "print(\"[INFO] loading images...\")\n",
    "imagePaths = list(paths.list_images(dataset_path))\n",
    "imagePaths = [imagePath.replace(\"\\\\\",\"//\",-1) for imagePath in imagePaths]\n",
    "data = []\n",
    "labels = []"
   ]
  },
  {
   "cell_type": "code",
   "execution_count": 8,
   "metadata": {},
   "outputs": [],
   "source": [
    "# loop over the image paths\n",
    "for imagePath in imagePaths:\n",
    "\t# extract the class label from the filename\n",
    "\tlabel = imagePath.split(\"//\")[-2]\n",
    "\n",
    "\t# load the input image (224x224) and preprocess it\n",
    "\timage = load_img(imagePath, target_size=(224, 224))\n",
    "\timage = img_to_array(image)\n",
    "\timage = preprocess_input(image)\n",
    "\n",
    "\t# update the data and labels lists, respectively\n",
    "\tdata.append(image)\n",
    "\tlabels.append(label)"
   ]
  },
  {
   "cell_type": "code",
   "execution_count": 11,
   "metadata": {},
   "outputs": [],
   "source": [
    "# convert the data and labels to NumPy arrays\n",
    "data = np.array(data, dtype=\"float32\")\n",
    "labels = np.array(labels)\n",
    "\n",
    "# perform one-hot encoding on the labels\n",
    "lb = LabelBinarizer()\n",
    "labels = lb.fit_transform(labels)\n",
    "labels = to_categorical(labels)"
   ]
  },
  {
   "cell_type": "code",
   "execution_count": 12,
   "metadata": {},
   "outputs": [],
   "source": [
    "# partition the data into training and testing splits using 75% of\n",
    "# the data for training and the remaining 25% for testing\n",
    "(trainX, testX, trainY, testY) = train_test_split(data, labels,\n",
    "\ttest_size=0.20, stratify=labels, random_state=42)\n"
   ]
  },
  {
   "cell_type": "code",
   "execution_count": 13,
   "metadata": {},
   "outputs": [],
   "source": [
    "# construct the training image generator for data augmentation\n",
    "aug = ImageDataGenerator(\n",
    "\trotation_range=20,\n",
    "\tzoom_range=0.15,\n",
    "\twidth_shift_range=0.2,\n",
    "\theight_shift_range=0.2,\n",
    "\tshear_range=0.15,\n",
    "\thorizontal_flip=True,\n",
    "\tfill_mode=\"nearest\")"
   ]
  },
  {
   "cell_type": "code",
   "execution_count": 14,
   "metadata": {},
   "outputs": [
    {
     "name": "stdout",
     "output_type": "stream",
     "text": [
      "WARNING:tensorflow:`input_shape` is undefined or non-square, or `rows` is not in [96, 128, 160, 192, 224]. Weights for input shape (224, 224) will be loaded as the default.\n"
     ]
    }
   ],
   "source": [
    "# load the MobileNetV2 network, ensuring the head FC layer sets are\n",
    "# left off\n",
    "baseModel = MobileNetV2(weights=\"imagenet\", \n",
    "                        include_top=False,\n",
    "                        input_tensor=Input(shape=(224, 224, 3)))"
   ]
  },
  {
   "cell_type": "code",
   "execution_count": 15,
   "metadata": {},
   "outputs": [],
   "source": [
    "# construct the head of the model that will be placed on top of the\n",
    "# the base model\n",
    "headModel = baseModel.output\n",
    "headModel = AveragePooling2D(pool_size=(7, 7))(headModel)\n",
    "headModel = Flatten(name=\"flatten\")(headModel)\n",
    "headModel = Dense(128, activation=\"relu\")(headModel)\n",
    "headModel = Dropout(0.5)(headModel)\n",
    "headModel = Dense(2, activation=\"softmax\")(headModel)"
   ]
  },
  {
   "cell_type": "code",
   "execution_count": 16,
   "metadata": {},
   "outputs": [],
   "source": [
    "# place the head FC model on top of the base model (this will become\n",
    "# the actual model we will train)\n",
    "model = Model(inputs=baseModel.input, outputs=headModel)"
   ]
  },
  {
   "cell_type": "code",
   "execution_count": 17,
   "metadata": {},
   "outputs": [],
   "source": [
    "# loop over all layers in the base model and freeze them so they will\n",
    "# *not* be updated during the first training process\n",
    "for layer in baseModel.layers:\n",
    "\tlayer.trainable = False"
   ]
  },
  {
   "cell_type": "code",
   "execution_count": 18,
   "metadata": {},
   "outputs": [
    {
     "name": "stdout",
     "output_type": "stream",
     "text": [
      "[INFO] compiling model...\n"
     ]
    },
    {
     "name": "stderr",
     "output_type": "stream",
     "text": [
      "c:\\Users\\PC\\Anaconda3\\envs\\tf-gpu2.5\\lib\\site-packages\\keras\\optimizers\\optimizer_v2\\adam.py:110: UserWarning: The `lr` argument is deprecated, use `learning_rate` instead.\n",
      "  super(Adam, self).__init__(name, **kwargs)\n"
     ]
    }
   ],
   "source": [
    "# compile our model\n",
    "print(\"[INFO] compiling model...\")\n",
    "opt = Adam(lr=INIT_LR, decay=INIT_LR / EPOCHS)\n",
    "model.compile(loss=\"binary_crossentropy\", optimizer=opt,\n",
    "\tmetrics=[\"accuracy\"])"
   ]
  },
  {
   "cell_type": "code",
   "execution_count": 19,
   "metadata": {},
   "outputs": [
    {
     "name": "stdout",
     "output_type": "stream",
     "text": [
      "[INFO] training head...\n",
      "Epoch 1/20\n",
      "3/3 [==============================] - 30s 3s/step - loss: 1.1117 - accuracy: 0.5109 - val_loss: 0.9548 - val_accuracy: 0.5000\n",
      "Epoch 2/20\n",
      "3/3 [==============================] - 3s 917ms/step - loss: 0.9120 - accuracy: 0.5652 - val_loss: 0.8339 - val_accuracy: 0.5000\n",
      "Epoch 3/20\n",
      "3/3 [==============================] - 3s 791ms/step - loss: 0.8458 - accuracy: 0.5217 - val_loss: 0.7813 - val_accuracy: 0.5000\n",
      "Epoch 4/20\n",
      "3/3 [==============================] - 3s 1s/step - loss: 0.8183 - accuracy: 0.5208 - val_loss: 0.7606 - val_accuracy: 0.3750\n",
      "Epoch 5/20\n",
      "3/3 [==============================] - 3s 784ms/step - loss: 0.8297 - accuracy: 0.4583 - val_loss: 0.7490 - val_accuracy: 0.3750\n",
      "Epoch 6/20\n",
      "3/3 [==============================] - 3s 757ms/step - loss: 0.8382 - accuracy: 0.4688 - val_loss: 0.7366 - val_accuracy: 0.4375\n",
      "Epoch 7/20\n",
      "3/3 [==============================] - 3s 751ms/step - loss: 0.8414 - accuracy: 0.4674 - val_loss: 0.7272 - val_accuracy: 0.5000\n",
      "Epoch 8/20\n",
      "3/3 [==============================] - 3s 855ms/step - loss: 0.8355 - accuracy: 0.4891 - val_loss: 0.7216 - val_accuracy: 0.5000\n",
      "Epoch 9/20\n",
      "3/3 [==============================] - 3s 793ms/step - loss: 0.8548 - accuracy: 0.4674 - val_loss: 0.7190 - val_accuracy: 0.5312\n",
      "Epoch 10/20\n",
      "3/3 [==============================] - 3s 949ms/step - loss: 0.7615 - accuracy: 0.5543 - val_loss: 0.7199 - val_accuracy: 0.5000\n",
      "Epoch 11/20\n",
      "3/3 [==============================] - 3s 712ms/step - loss: 0.7354 - accuracy: 0.5543 - val_loss: 0.7210 - val_accuracy: 0.5625\n",
      "Epoch 12/20\n",
      "3/3 [==============================] - 3s 787ms/step - loss: 0.7837 - accuracy: 0.5217 - val_loss: 0.7194 - val_accuracy: 0.5625\n",
      "Epoch 13/20\n",
      "3/3 [==============================] - 3s 830ms/step - loss: 0.7365 - accuracy: 0.5625 - val_loss: 0.7131 - val_accuracy: 0.5625\n",
      "Epoch 14/20\n",
      "3/3 [==============================] - 3s 822ms/step - loss: 0.7501 - accuracy: 0.5312 - val_loss: 0.7067 - val_accuracy: 0.5625\n",
      "Epoch 15/20\n",
      "3/3 [==============================] - 3s 844ms/step - loss: 0.6900 - accuracy: 0.6087 - val_loss: 0.6974 - val_accuracy: 0.5625\n",
      "Epoch 16/20\n",
      "3/3 [==============================] - 3s 809ms/step - loss: 0.6836 - accuracy: 0.6413 - val_loss: 0.6895 - val_accuracy: 0.5312\n",
      "Epoch 17/20\n",
      "3/3 [==============================] - 3s 826ms/step - loss: 0.6731 - accuracy: 0.6630 - val_loss: 0.6848 - val_accuracy: 0.5938\n",
      "Epoch 18/20\n",
      "3/3 [==============================] - 3s 919ms/step - loss: 0.6633 - accuracy: 0.6413 - val_loss: 0.6804 - val_accuracy: 0.5938\n",
      "Epoch 19/20\n",
      "3/3 [==============================] - 3s 903ms/step - loss: 0.6057 - accuracy: 0.7174 - val_loss: 0.6791 - val_accuracy: 0.5938\n",
      "Epoch 20/20\n",
      "3/3 [==============================] - 3s 819ms/step - loss: 0.6422 - accuracy: 0.6458 - val_loss: 0.6769 - val_accuracy: 0.5938\n"
     ]
    }
   ],
   "source": [
    "# train the head of the network:::BS=32|^\n",
    "print(\"[INFO] training head...\")\n",
    "H = model.fit(\n",
    "\taug.flow(trainX, trainY, batch_size=BS),\n",
    "\tsteps_per_epoch=len(trainX) // BS,\n",
    "\tvalidation_data=(testX, testY),\n",
    "\tvalidation_steps=len(testX) // BS,\n",
    "\tepochs=EPOCHS)"
   ]
  },
  {
   "cell_type": "code",
   "execution_count": 20,
   "metadata": {},
   "outputs": [
    {
     "name": "stdout",
     "output_type": "stream",
     "text": [
      "[INFO] evaluating network...\n",
      "1/1 [==============================] - 7s 7s/step\n"
     ]
    }
   ],
   "source": [
    "# make predictions on the testing set\n",
    "print(\"[INFO] evaluating network...\")\n",
    "predIdxs = model.predict(testX, batch_size=BS)"
   ]
  },
  {
   "cell_type": "code",
   "execution_count": 21,
   "metadata": {},
   "outputs": [],
   "source": [
    "# for each image in the testing set we need to find the index of the\n",
    "# label with corresponding largest predicted probability\n",
    "predIdxs = np.argmax(predIdxs, axis=1)"
   ]
  },
  {
   "cell_type": "code",
   "execution_count": 24,
   "metadata": {},
   "outputs": [
    {
     "name": "stdout",
     "output_type": "stream",
     "text": [
      "              precision    recall  f1-score   support\n",
      "\n",
      "       awake       0.57      0.81      0.67        16\n",
      "      drowsy       0.67      0.38      0.48        16\n",
      "\n",
      "    accuracy                           0.59        32\n",
      "   macro avg       0.62      0.59      0.57        32\n",
      "weighted avg       0.62      0.59      0.57        32\n",
      "\n",
      "[INFO] saving mask detector model... path: c:\\Users\\PC\\PycharmProjects\\ComputerVision\\DROWSINESS_tf//model//drowsiness_model.h5\n"
     ]
    }
   ],
   "source": [
    "# show a nicely formatted classification report\n",
    "print(classification_report(testY.argmax(axis=1), predIdxs,\n",
    "\ttarget_names=lb.classes_))\n",
    "\n",
    "# serialize the model to disk\n",
    "print(\"[INFO] saving mask detector model... path: %s\"%(model_path+\".h5\"))\n",
    "model.save(model_path+\".h5\")"
   ]
  },
  {
   "cell_type": "code",
   "execution_count": 25,
   "metadata": {},
   "outputs": [
    {
     "data": {
      "image/png": "[encoded data removed]",
      "text/plain": [
       "<Figure size 432x288 with 1 Axes>"
      ]
     },
     "metadata": {},
     "output_type": "display_data"
    }
   ],
   "source": [
    "# plot the training loss and accuracy\n",
    "N = EPOCHS\n",
    "plt.style.use(\"ggplot\")\n",
    "plt.figure()\n",
    "plt.plot(np.arange(0, N), H.history[\"loss\"], label=\"train_loss\")\n",
    "plt.plot(np.arange(0, N), H.history[\"val_loss\"], label=\"val_loss\")\n",
    "plt.plot(np.arange(0, N), H.history[\"accuracy\"], label=\"train_acc\")\n",
    "plt.plot(np.arange(0, N), H.history[\"val_accuracy\"], label=\"val_acc\")\n",
    "plt.title(\"Training Loss and Accuracy\")\n",
    "plt.xlabel(\"Epoch #\")\n",
    "plt.ylabel(\"Loss/Accuracy\")\n",
    "plt.legend(loc=\"lower left\")\n",
    "plt.savefig(plot_path)"
   ]
  }
 ],
 "metadata": {
  "kernelspec": {
   "display_name": "Python 3.9.0 ('tf-gpu2.5')",
   "language": "python",
   "name": "python3"
  },
  "language_info": {
   "codemirror_mode": {
    "name": "ipython",
    "version": 3
   },
   "file_extension": ".py",
   "mimetype": "text/x-python",
   "name": "python",
   "nbconvert_exporter": "python",
   "pygments_lexer": "ipython3",
   "version": "3.9.0"
  },
  "orig_nbformat": 4,
  "vscode": {
   "interpreter": {
    "hash": "ede0a007ccab23c86fac0cd917634fbc50fc0f74a88a26ffb00e11eaf273bbbb"
   }
  }
 },
 "nbformat": 4,
 "nbformat_minor": 2
}
